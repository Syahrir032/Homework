{
 "cells": [
  {
   "cell_type": "code",
   "execution_count": 26,
   "id": "05452ead",
   "metadata": {
    "scrolled": true
   },
   "outputs": [
    {
     "name": "stdout",
     "output_type": "stream",
     "text": [
      "1\n",
      "2\n",
      "Fizz\n",
      "4\n",
      "Buzz\n",
      "Fizz\n",
      "7\n",
      "8\n",
      "Fizz\n",
      "Buzz\n",
      "11\n",
      "Fizz\n",
      "13\n",
      "14\n",
      "FizzBuzz\n",
      "16\n",
      "17\n",
      "Fizz\n",
      "19\n",
      "Buzz\n",
      "Fizz\n",
      "22\n",
      "23\n",
      "Fizz\n",
      "Buzz\n",
      "26\n",
      "Fizz\n",
      "28\n",
      "29\n",
      "FizzBuzz\n",
      "31\n",
      "32\n",
      "Fizz\n",
      "34\n",
      "Buzz\n",
      "Fizz\n",
      "37\n",
      "38\n",
      "Fizz\n",
      "Buzz\n",
      "41\n",
      "Fizz\n",
      "43\n",
      "44\n",
      "FizzBuzz\n",
      "46\n",
      "47\n",
      "Fizz\n",
      "49\n",
      "Buzz\n",
      "Fizz\n",
      "52\n",
      "53\n",
      "Fizz\n",
      "Buzz\n",
      "56\n",
      "Fizz\n",
      "58\n",
      "59\n",
      "FizzBuzz\n",
      "61\n",
      "62\n",
      "Fizz\n",
      "64\n",
      "Buzz\n",
      "Fizz\n",
      "67\n",
      "68\n",
      "Fizz\n",
      "Buzz\n",
      "71\n",
      "Fizz\n",
      "73\n",
      "74\n",
      "FizzBuzz\n",
      "76\n",
      "77\n",
      "Fizz\n",
      "79\n",
      "Buzz\n",
      "Fizz\n",
      "82\n",
      "83\n",
      "Fizz\n",
      "Buzz\n",
      "86\n",
      "Fizz\n",
      "88\n",
      "89\n",
      "FizzBuzz\n",
      "91\n",
      "92\n",
      "Fizz\n",
      "94\n",
      "Buzz\n",
      "Fizz\n",
      "97\n",
      "98\n",
      "Fizz\n",
      "Buzz\n"
     ]
    }
   ],
   "source": [
    "#Nomor 1, Homework 1 AeroTraining\n",
    "\n",
    "i = 1 #Memberikan nilai awal i\n",
    "while i < 101: #Memberikan syarat i\n",
    "    a = i % 3; #Define variabel\n",
    "    b = i % 5; #Define variabel\n",
    "#Memasukkan syarat\n",
    "    if a == 0 and b != 0:\n",
    "        print(\"Fizz\")\n",
    "    elif a != 0 and b == 0:\n",
    "        print(\"Buzz\")\n",
    "    elif a == 0 and b == 0:\n",
    "        print(\"FizzBuzz\")\n",
    "    else:\n",
    "        print(i)\n",
    "    i += 1 #Menambahkan nilai i dengan 1"
   ]
  },
  {
   "cell_type": "code",
   "execution_count": 12,
   "id": "24b26074",
   "metadata": {},
   "outputs": [
    {
     "name": "stdout",
     "output_type": "stream",
     "text": [
      "Input Kata : kasur rusak\n",
      "k\n",
      "ka\n",
      "kas\n",
      "kasu\n",
      "kasur\n",
      "kasur \n",
      "kasur r\n",
      "kasur ru\n",
      "kasur rus\n",
      "kasur rusa\n",
      "kasur rusak\n",
      "Result : Yes\n"
     ]
    }
   ],
   "source": [
    "#Nomor 2, Homework 1 Aerotraining\n",
    "\n",
    "kata = input(\"Input Kata : \")\n",
    "temp = \"\"\n",
    "\n",
    "for i in range(len(kata)-1, -1, -1): #Mengecek huruf dari belakang\n",
    "    temp+=kata[i]\n",
    "    print(temp)\n",
    "    \n",
    "print(\"Result : \", end=\"\")\n",
    "if(kata == temp): \n",
    "    print(\"Yes\")\n",
    "else:\n",
    "    print(\"No\")"
   ]
  },
  {
   "cell_type": "code",
   "execution_count": 10,
   "id": "9b78a3a1",
   "metadata": {},
   "outputs": [],
   "source": [
    "class Dataset:\n",
    "    def __init__(self,data_array):\n",
    "        self.data_array = data_array\n",
    "        \n",
    "    def calculate_range(self):\n",
    "        max_value = max(self.data_array)\n",
    "        min_value = min(self.data_array)\n",
    "        return max_value-min_value\n",
    "    \n",
    "    def calculate_standard_deviation(self):\n",
    "        mean_value = sum(self.data_array)/len(self.data_array)\n",
    "        var=0\n",
    "        for x in self.data_array:\n",
    "            var = var + (x - mean_value)**2\n",
    "        return (var/len(self.data_array))**(1/2)\n",
    "        "
   ]
  },
  {
   "cell_type": "code",
   "execution_count": 2,
   "id": "b8c3f060",
   "metadata": {},
   "outputs": [
    {
     "name": "stdout",
     "output_type": "stream",
     "text": [
      "Panjang dari data adalah : 13\n",
      "Standar deviasi dari data tersebut adalah : 4.898979485566356\n"
     ]
    }
   ],
   "source": [
    "data1 = Dataset([10, 12, 23, 23, 16, 23, 21, 16])\n",
    "print(\"Panjang dari data adalah :\",data1.calculate_range())\n",
    "print(\"Standar deviasi dari data tersebut adalah :\",data1.calculate_standard_deviation())\n"
   ]
  },
  {
   "cell_type": "code",
   "execution_count": 24,
   "id": "d8e0ac59",
   "metadata": {},
   "outputs": [
    {
     "name": "stdout",
     "output_type": "stream",
     "text": [
      "Luas segitiga adalah:  17.5\n"
     ]
    }
   ],
   "source": [
    "def hitung_luas_segitiga(alas,tinggi):\n",
    "    luas = (alas*tinggi)/2\n",
    "    print(\"Luas segitiga adalah: \",luas)\n",
    "\n",
    "hitung_luas_segitiga(5,7)"
   ]
  },
  {
   "cell_type": "code",
   "execution_count": null,
   "id": "439ac067",
   "metadata": {},
   "outputs": [],
   "source": []
  }
 ],
 "metadata": {
  "kernelspec": {
   "display_name": "Python 3",
   "language": "python",
   "name": "python3"
  },
  "language_info": {
   "codemirror_mode": {
    "name": "ipython",
    "version": 3
   },
   "file_extension": ".py",
   "mimetype": "text/x-python",
   "name": "python",
   "nbconvert_exporter": "python",
   "pygments_lexer": "ipython3",
   "version": "3.8.8"
  }
 },
 "nbformat": 4,
 "nbformat_minor": 5
}
